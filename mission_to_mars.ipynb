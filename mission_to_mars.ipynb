{
 "cells": [
  {
   "cell_type": "code",
   "execution_count": 1,
   "metadata": {},
   "outputs": [
    {
     "name": "stdout",
     "output_type": "stream",
     "text": [
      "Requirement already satisfied: splinter in c:\\users\\christopher jung\\appdata\\roaming\\python\\python37\\site-packages (0.11.0)\n",
      "Requirement already satisfied: selenium>=3.141.0 in c:\\users\\christopher jung\\appdata\\roaming\\python\\python37\\site-packages (from splinter) (3.141.0)\n",
      "Requirement already satisfied: six in c:\\anaconda3\\lib\\site-packages (from splinter) (1.12.0)\n",
      "Requirement already satisfied: urllib3 in c:\\anaconda3\\lib\\site-packages (from selenium>=3.141.0->splinter) (1.24.2)\n",
      "Requirement already satisfied: selenium in c:\\users\\christopher jung\\appdata\\roaming\\python\\python37\\site-packages (3.141.0)\n",
      "Requirement already satisfied: urllib3 in c:\\anaconda3\\lib\\site-packages (from selenium) (1.24.2)\n",
      "Requirement already satisfied: splinter in c:\\users\\christopher jung\\appdata\\roaming\\python\\python37\\site-packages (0.11.0)\n",
      "Requirement already satisfied: six in c:\\anaconda3\\lib\\site-packages (from splinter) (1.12.0)\n",
      "Requirement already satisfied: selenium>=3.141.0 in c:\\users\\christopher jung\\appdata\\roaming\\python\\python37\\site-packages (from splinter) (3.141.0)\n",
      "Requirement already satisfied: urllib3 in c:\\anaconda3\\lib\\site-packages (from selenium>=3.141.0->splinter) (1.24.2)\n"
     ]
    }
   ],
   "source": [
    "# Dependencies\n",
    "!pip install splinter\n",
    "!pip install selenium\n",
    "!pip install --user splinter\n",
    "from splinter import Browser\n",
    "from bs4 import BeautifulSoup as bs\n",
    "import requests\n",
    "import re\n",
    "import pandas as pd"
   ]
  },
  {
   "cell_type": "code",
   "execution_count": 2,
   "metadata": {},
   "outputs": [],
   "source": [
    "#NASA MARS NEWS section\n",
    "\n",
    "executable_path = {\"executable_path\": \"chromedriver.exe\"}\n",
    "browser = Browser(\"chrome\", **executable_path, headless=False)\n",
    "\n",
    "url='https://mars.nasa.gov/news/?page=0&per_page=40&order=publish_date+desc%2Ccreated_at+desc&search=&category=19%2C165%2C184%2C204&blank_scope=Latest'\n",
    "browser.visit(url)\n",
    "\n",
    "html = browser.html\n",
    "soup = bs(html, 'html.parser')\n",
    "\n",
    "news_title= soup.find(\"div\",{\"class\":\"content_title\"}).text\n",
    "news_p= soup.find(\"div\",{\"class\":\"article_teaser_body\"}).text\n",
    "# print(news_title)\n",
    "# print(news_p)"
   ]
  },
  {
   "cell_type": "code",
   "execution_count": 6,
   "metadata": {},
   "outputs": [
    {
     "name": "stdout",
     "output_type": "stream",
     "text": [
      "https://www.jpl.nasa.gov/spaceimages/images/mediumsize/PIA18899_ip.jpg\n"
     ]
    }
   ],
   "source": [
    "#JPL Mars SPACE IMAGES section\n",
    "\n",
    "# executable_path = {\"executable_path\": \"chromedriver.exe\"}\n",
    "# browser = Browser(\"chrome\", **executable_path, headless=False)\n",
    "\n",
    "url_img='https://www.jpl.nasa.gov/spaceimages/?search=&category=Mars'\n",
    "browser.visit(url_img)\n",
    "\n",
    "html = browser.html\n",
    "soup = bs(html, 'html.parser')\n",
    "\n",
    "for link in soup.findAll(id=\"full_image\"): \n",
    "    feature_image=link.get('data-fancybox-href')\n",
    "feature_image_url=\"https://www.jpl.nasa.gov\" + feature_image\n",
    "#print(feature_image_url) "
   ]
  },
  {
   "cell_type": "code",
   "execution_count": 4,
   "metadata": {},
   "outputs": [
    {
     "name": "stdout",
     "output_type": "stream",
     "text": [
      "I’d say a plutonium-238 powered RTG qualifies the Curiosity and Mars2020 rovers as alternative fuel vehicles. You can explore these and other missions, rockets and more with JPL’s Spacecraft AR for IOS and Androhttps://www.jpl.nasa.gov/apps/\n",
      "pic.twitter.com/f4SheTlQyY\n",
      "I’d say a plutonium-238 powered RTG qualifies the Curiosity and Mars2020 rovers as alternative fuel vehicles. You can explore these and other missions, rockets and more with JPL’s Spacecraft AR for IOS and Androhttps://www.jpl.nasa.gov/apps/\n"
     ]
    }
   ],
   "source": [
    "# #Mars Weather section\n",
    "\n",
    "# executable_path = {\"executable_path\": \"chromedriver.exe\"}\n",
    "# browser = Browser(\"chrome\", **executable_path, headless=False)\n",
    "\n",
    "url_wt='https://twitter.com/marswxreport?lang=en'\n",
    "browser.visit(url_wt)\n",
    "\n",
    "html = browser.html\n",
    "soup = bs(html, 'html.parser')\n",
    "\n",
    "weather= soup.find(\"p\",{\"class\":\"TweetTextSize\"})\n",
    "# print(weather)\n",
    "print(weather.get_text(\"\\n\"))\n",
    "mars_weather = \" \".join(weather.find_all(text=True, recursive=False))\n",
    "#print(mars_weather)"
   ]
  },
  {
   "cell_type": "code",
   "execution_count": 10,
   "metadata": {},
   "outputs": [
    {
     "data": {
      "text/html": [
       "<div>\n",
       "<style scoped>\n",
       "    .dataframe tbody tr th:only-of-type {\n",
       "        vertical-align: middle;\n",
       "    }\n",
       "\n",
       "    .dataframe tbody tr th {\n",
       "        vertical-align: top;\n",
       "    }\n",
       "\n",
       "    .dataframe thead th {\n",
       "        text-align: right;\n",
       "    }\n",
       "</style>\n",
       "<table border=\"1\" class=\"dataframe\">\n",
       "  <thead>\n",
       "    <tr style=\"text-align: right;\">\n",
       "      <th></th>\n",
       "      <th>value</th>\n",
       "    </tr>\n",
       "    <tr>\n",
       "      <th>Description</th>\n",
       "      <th></th>\n",
       "    </tr>\n",
       "  </thead>\n",
       "  <tbody>\n",
       "    <tr>\n",
       "      <th>Equatorial Diameter:</th>\n",
       "      <td>6,792 km</td>\n",
       "    </tr>\n",
       "    <tr>\n",
       "      <th>Polar Diameter:</th>\n",
       "      <td>6,752 km</td>\n",
       "    </tr>\n",
       "    <tr>\n",
       "      <th>Mass:</th>\n",
       "      <td>6.39 × 10^23 kg (0.11 Earths)</td>\n",
       "    </tr>\n",
       "    <tr>\n",
       "      <th>Moons:</th>\n",
       "      <td>2 (Phobos &amp; Deimos)</td>\n",
       "    </tr>\n",
       "    <tr>\n",
       "      <th>Orbit Distance:</th>\n",
       "      <td>227,943,824 km (1.38 AU)</td>\n",
       "    </tr>\n",
       "    <tr>\n",
       "      <th>Orbit Period:</th>\n",
       "      <td>687 days (1.9 years)</td>\n",
       "    </tr>\n",
       "    <tr>\n",
       "      <th>Surface Temperature:</th>\n",
       "      <td>-87 to -5 °C</td>\n",
       "    </tr>\n",
       "    <tr>\n",
       "      <th>First Record:</th>\n",
       "      <td>2nd millennium BC</td>\n",
       "    </tr>\n",
       "    <tr>\n",
       "      <th>Recorded By:</th>\n",
       "      <td>Egyptian astronomers</td>\n",
       "    </tr>\n",
       "  </tbody>\n",
       "</table>\n",
       "</div>"
      ],
      "text/plain": [
       "                                              value\n",
       "Description                                        \n",
       "Equatorial Diameter:                       6,792 km\n",
       "Polar Diameter:                            6,752 km\n",
       "Mass:                 6.39 × 10^23 kg (0.11 Earths)\n",
       "Moons:                          2 (Phobos & Deimos)\n",
       "Orbit Distance:            227,943,824 km (1.38 AU)\n",
       "Orbit Period:                  687 days (1.9 years)\n",
       "Surface Temperature:                   -87 to -5 °C\n",
       "First Record:                     2nd millennium BC\n",
       "Recorded By:                   Egyptian astronomers"
      ]
     },
     "execution_count": 10,
     "metadata": {},
     "output_type": "execute_result"
    }
   ],
   "source": [
    "#MARS FACTS TABLE\n",
    "\n",
    "# executable_path = {\"executable_path\": \"chromedriver.exe\"}\n",
    "# browser = Browser(\"chrome\", **executable_path, headless=False)\n",
    "\n",
    "url_tb='https://space-facts.com/mars/'\n",
    "browser.visit(url_tb)\n",
    "\n",
    "tables=pd.read_html(url_tb)\n",
    "tables\n",
    "df=tables[1]\n",
    "mars_df=df.rename(columns={0:\"Description\",1:\"value\"})\n",
    "mars_df.set_index('Description', inplace=True)\n",
    "#mars_df\n",
    "mars_table=mars_df.replace('\\n', '')\n",
    "#mars_table"
   ]
  },
  {
   "cell_type": "code",
   "execution_count": 12,
   "metadata": {},
   "outputs": [
    {
     "data": {
      "text/plain": [
       "[{'title': 'Cerberus Hemisphere Enhanced',\n",
       "  'img_url': 'http://astropedia.astrogeology.usgs.gov/download/Mars/Viking/cerberus_enhanced.tif/full.jpg'},\n",
       " {'title': 'Schiaparelli Hemisphere Enhanced',\n",
       "  'img_url': 'http://astropedia.astrogeology.usgs.gov/download/Mars/Viking/schiaparelli_enhanced.tif/full.jpg'},\n",
       " {'title': 'Syrtis Major Hemisphere Enhanced',\n",
       "  'img_url': 'http://astropedia.astrogeology.usgs.gov/download/Mars/Viking/syrtis_major_enhanced.tif/full.jpg'},\n",
       " {'title': 'Valles Marineris Hemisphere Enhanced',\n",
       "  'img_url': 'http://astropedia.astrogeology.usgs.gov/download/Mars/Viking/valles_marineris_enhanced.tif/full.jpg'}]"
      ]
     },
     "execution_count": 12,
     "metadata": {},
     "output_type": "execute_result"
    }
   ],
   "source": [
    "#MARS HEMISPHERES section\n",
    "\n",
    "# executable_path = {\"executable_path\": \"chromedriver.exe\"}\n",
    "# browser = Browser(\"chrome\", **executable_path, headless=False)\n",
    "\n",
    "url_mh = \"https://astrogeology.usgs.gov/search/results?q=hemisphere+enhanced&k1=target&v1=Mars\"\n",
    "browser.visit(url_mh)\n",
    "html = browser.html\n",
    "soup = bs(html, \"html.parser\")\n",
    "\n",
    "img_url= soup.findAll(\"\",{\"class\":\"item\"})\n",
    "hemishphere_image_urls=[]\n",
    "\n",
    "for img in img_url:\n",
    "    title = img.find(\"h3\").text\n",
    "    img_link= img.find(\"a\")[\"href\"]\n",
    "    images = \"https://astrogeology.usgs.gov/\" + img_link \n",
    "    browser.visit(images)\n",
    "    html = browser.html\n",
    "    soup=bs(html, \"html.parser\")\n",
    "    download = soup.find(\"div\", {\"class\":\"downloads\"})\n",
    "    full_img = download.find(\"a\")[\"href\"]\n",
    "    hemishphere_image_urls.append({\"title\": title, \"img_url\": full_img})\n",
    "\n",
    "#hemishphere_image_urls\n",
    "\n"
   ]
  },
  {
   "cell_type": "code",
   "execution_count": 38,
   "metadata": {},
   "outputs": [],
   "source": []
  },
  {
   "cell_type": "code",
   "execution_count": null,
   "metadata": {},
   "outputs": [],
   "source": []
  }
 ],
 "metadata": {
  "kernelspec": {
   "display_name": "Python 3",
   "language": "python",
   "name": "python3"
  },
  "language_info": {
   "codemirror_mode": {
    "name": "ipython",
    "version": 3
   },
   "file_extension": ".py",
   "mimetype": "text/x-python",
   "name": "python",
   "nbconvert_exporter": "python",
   "pygments_lexer": "ipython3",
   "version": "3.7.3"
  }
 },
 "nbformat": 4,
 "nbformat_minor": 2
}
